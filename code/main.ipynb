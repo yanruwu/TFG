{
 "cells": [
  {
   "cell_type": "markdown",
   "metadata": {},
   "source": [
    "# Trabajo Fin de Grado - DACYA\n",
    "\n",
    "## Control de Sistemas Multiagente y sus Aplicaciones"
   ]
  },
  {
   "cell_type": "code",
   "execution_count": 13,
   "metadata": {},
   "outputs": [],
   "source": [
    "import numpy as np\n",
    "import matplotlib.pyplot as plt\n",
    "import math as math\n",
    "\n",
    "import networkx as nx\n",
    "\n",
    "from sympy import symbols, Matrix"
   ]
  },
  {
   "cell_type": "code",
   "execution_count": 14,
   "metadata": {},
   "outputs": [],
   "source": [
    "# G = nx.Graph()\n",
    "# G.add_nodes_from([1,2,3,4])\n",
    "# G.add_edges_from([(1,2),(2,3),(3,4),(4,1),(1,3),(2,4)])\n",
    "\n",
    "# posnode = {1: (0, 1), 2: (1, 0), 3: (0, -1), 4: (-1, 0)}\n",
    "\n",
    "# plt.figure(1, figsize=(3,3))\n",
    "\n",
    "# nx.draw(G, pos=posnode, with_labels=True)\n",
    "\n",
    "# edge_name={(1, 2): 'e1', (2, 3): 'e4', (3, 4): 'e6', (4, 1): 'e3', (1, 3): 'e2', (2, 4): 'e5'}\n",
    "# nx.draw_networkx_edges(G, pos=posnode, edgelist=edge_name.keys())\n",
    "# nx.draw_networkx_edge_labels(G, pos=posnode, edge_labels=edge_name)\n",
    "\n",
    "# plt.show()"
   ]
  },
  {
   "cell_type": "markdown",
   "metadata": {},
   "source": [
    "### Configuration Matrices"
   ]
  },
  {
   "cell_type": "code",
   "execution_count": 15,
   "metadata": {},
   "outputs": [],
   "source": [
    "vertices = {1,2,3,4,5} # Vertices\n",
    "edges = {(1,2),(1,3),(1,4),(2,3),(2,4),(3,4),(3,5),(4,5)} # Edges"
   ]
  },
  {
   "cell_type": "code",
   "execution_count": 16,
   "metadata": {},
   "outputs": [
    {
     "data": {
      "text/plain": [
       "array([[0. , 0. , 1. ],\n",
       "       [0. , 1. , 1. ],\n",
       "       [1. , 0. , 1. ],\n",
       "       [1. , 1. , 1. ],\n",
       "       [1.5, 0.5, 1. ]])"
      ]
     },
     "execution_count": 16,
     "metadata": {},
     "output_type": "execute_result"
    }
   ],
   "source": [
    "# Each vertex position \n",
    "p1 = np.array([0,0])\n",
    "p2 = np.array([0,1])\n",
    "p3 = np.array([1,0])\n",
    "p4 = np.array([1,1])\n",
    "p5 = np.array([1.5,0.5])\n",
    "\n",
    "\n",
    "pt = np.array([p1,p2,p3,p4,p5])\n",
    "\n",
    "\n",
    "pbar = np.column_stack((pt,np.ones(5))).astype(float)\n",
    "pbar"
   ]
  },
  {
   "cell_type": "markdown",
   "metadata": {},
   "source": [
    "### Incidence Matrix"
   ]
  },
  {
   "cell_type": "code",
   "execution_count": 17,
   "metadata": {},
   "outputs": [
    {
     "data": {
      "text/plain": [
       "[(0, (2, 4)),\n",
       " (1, (1, 2)),\n",
       " (2, (3, 4)),\n",
       " (3, (1, 4)),\n",
       " (4, (2, 3)),\n",
       " (5, (4, 5)),\n",
       " (6, (1, 3)),\n",
       " (7, (3, 5))]"
      ]
     },
     "execution_count": 17,
     "metadata": {},
     "output_type": "execute_result"
    }
   ],
   "source": [
    "list(enumerate(edges))"
   ]
  },
  {
   "cell_type": "code",
   "execution_count": 18,
   "metadata": {},
   "outputs": [],
   "source": [
    "H=np.zeros([len(vertices),len(edges)])\n",
    "for i in enumerate(edges):\n",
    "    H[i[1][0]-1,i[0]] = -1\n",
    "    H[i[1][1]-1,i[0]] = 1\n"
   ]
  },
  {
   "cell_type": "code",
   "execution_count": 19,
   "metadata": {},
   "outputs": [
    {
     "data": {
      "text/plain": [
       "{(1, 2), (1, 3), (1, 4), (2, 3), (2, 4), (3, 4), (3, 5), (4, 5)}"
      ]
     },
     "execution_count": 19,
     "metadata": {},
     "output_type": "execute_result"
    }
   ],
   "source": [
    "edges"
   ]
  },
  {
   "cell_type": "code",
   "execution_count": 20,
   "metadata": {},
   "outputs": [
    {
     "name": "stdout",
     "output_type": "stream",
     "text": [
      "[[ 0. -1.  0. -1.  0.  0. -1.  0.]\n",
      " [-1.  1.  0.  0. -1.  0.  0.  0.]\n",
      " [ 0.  0. -1.  0.  1.  0.  1. -1.]\n",
      " [ 1.  0.  1.  1.  0. -1.  0.  0.]\n",
      " [ 0.  0.  0.  0.  0.  1.  0.  1.]]\n",
      "{(2, 4), (1, 2), (3, 4), (1, 4), (2, 3), (4, 5), (1, 3), (3, 5)}\n"
     ]
    },
    {
     "data": {
      "text/plain": [
       "{(1, 2), (1, 3), (1, 4), (2, 3), (2, 4), (3, 4), (3, 5), (4, 5)}"
      ]
     },
     "execution_count": 20,
     "metadata": {},
     "output_type": "execute_result"
    }
   ],
   "source": [
    "print(H)\n",
    "print(edges)\n",
    "edges"
   ]
  },
  {
   "cell_type": "code",
   "execution_count": 21,
   "metadata": {},
   "outputs": [
    {
     "data": {
      "text/latex": [
       "$\\displaystyle \\left[\\begin{matrix}1 & 1 & 1 & 0 & 0 & 0 & 0 & 0\\\\-1 & 0 & 0 & 1 & 1 & 0 & 1 & 0\\\\0 & -1 & 0 & -1 & 0 & 1 & 0 & 0\\\\0 & 0 & -1 & 0 & -1 & -1 & 0 & 1\\\\0 & 0 & 0 & 0 & 0 & 0 & -1 & -1\\end{matrix}\\right]$"
      ],
      "text/plain": [
       "Matrix([\n",
       "[ 1,  1,  1,  0,  0,  0,  0,  0],\n",
       "[-1,  0,  0,  1,  1,  0,  1,  0],\n",
       "[ 0, -1,  0, -1,  0,  1,  0,  0],\n",
       "[ 0,  0, -1,  0, -1, -1,  0,  1],\n",
       "[ 0,  0,  0,  0,  0,  0, -1, -1]])"
      ]
     },
     "execution_count": 21,
     "metadata": {},
     "output_type": "execute_result"
    }
   ],
   "source": [
    "H = np.array([[1,1,1,0,0,0,0,0],[-1,0,0,1,1,0,1,0],[0,-1,0,-1,0,1,0,0],[0,0,-1,0,-1,-1,0,1],[0,0,0,0,0,0,-1,-1]]) # rows --> nodes, columns --> edges.\n",
    "Hm = Matrix(H)\n",
    "Hm"
   ]
  },
  {
   "cell_type": "code",
   "execution_count": 22,
   "metadata": {},
   "outputs": [
    {
     "data": {
      "text/latex": [
       "$\\displaystyle \\left[\\begin{matrix}0\\\\0\\\\0\\\\0\\\\0\\\\0\\\\0\\\\0\\end{matrix}\\right]$"
      ],
      "text/plain": [
       "Matrix([\n",
       "[0],\n",
       "[0],\n",
       "[0],\n",
       "[0],\n",
       "[0],\n",
       "[0],\n",
       "[0],\n",
       "[0]])"
      ]
     },
     "execution_count": 22,
     "metadata": {},
     "output_type": "execute_result"
    }
   ],
   "source": [
    "Matrix(np.transpose(H) @ np.ones([5,1]).astype(float)) # condición a cumplir --> 0"
   ]
  },
  {
   "cell_type": "markdown",
   "metadata": {},
   "source": [
    "## Stress Matrix\n"
   ]
  },
  {
   "cell_type": "code",
   "execution_count": 23,
   "metadata": {},
   "outputs": [
    {
     "data": {
      "text/latex": [
       "$\\displaystyle \\left[\\begin{matrix}1 & -1 & 1 & -1\\\\-1 & 1 & -1 & 1\\\\1 & -1 & 1 & -1\\\\-1 & 1 & -1 & 1\\end{matrix}\\right]$"
      ],
      "text/plain": [
       "Matrix([\n",
       "[ 1, -1,  1, -1],\n",
       "[-1,  1, -1,  1],\n",
       "[ 1, -1,  1, -1],\n",
       "[-1,  1, -1,  1]])"
      ]
     },
     "execution_count": 23,
     "metadata": {},
     "output_type": "execute_result"
    }
   ],
   "source": [
    "Omega = np.array([[1, -1, 1, -1],[-1, 1, -1, 1],[1, -1, 1, -1],[-1, 1, -1, 1]])\n",
    "Matrix(Omega)"
   ]
  },
  {
   "cell_type": "markdown",
   "metadata": {},
   "source": [
    "### Laplacian"
   ]
  },
  {
   "cell_type": "code",
   "execution_count": 24,
   "metadata": {},
   "outputs": [],
   "source": [
    "N=4\n",
    "wij=np.random.rand(N,N) # Usando una matriz rand ya que aún no se ha calculado wij\n",
    "\n",
    "\n",
    "def laplacian(N,wij):\n",
    "    laplacian=np.zeros([N,N])\n",
    "\n",
    "    for i in range(N):\n",
    "        for j in range(N):\n",
    "            if i==j:\n",
    "                if i==0:\n",
    "                    laplacian[i,j]=wij[i,i+1]\n",
    "                elif i==N-1:\n",
    "                    laplacian[i,j]=wij[i,i-1]\n",
    "                else:\n",
    "                    laplacian[i,j]=wij[i,i+1]+wij[i,i-1]\n",
    "            elif i!=j and j==i+1 or j==i-1:\n",
    "                laplacian[i,j]=-wij[i,j]\n",
    "            else:\n",
    "                laplacian[i,j]=0\n",
    "    return laplacian\n",
    "\n",
    "\n"
   ]
  },
  {
   "cell_type": "code",
   "execution_count": 25,
   "metadata": {},
   "outputs": [
    {
     "data": {
      "text/latex": [
       "$\\displaystyle \\left[\\begin{matrix}-1.0 & 1.0 & 0 & 0\\\\1.0 & -2.0 & 1.0 & 0\\\\0 & 1.0 & -2.0 & 1.0\\\\0 & 0 & 1.0 & -1.0\\end{matrix}\\right]$"
      ],
      "text/plain": [
       "Matrix([\n",
       "[-1.0,  1.0,    0,    0],\n",
       "[ 1.0, -2.0,  1.0,    0],\n",
       "[   0,  1.0, -2.0,  1.0],\n",
       "[   0,    0,  1.0, -1.0]])"
      ]
     },
     "execution_count": 25,
     "metadata": {},
     "output_type": "execute_result"
    }
   ],
   "source": [
    "Matrix(laplacian(4,Omega))"
   ]
  },
  {
   "cell_type": "code",
   "execution_count": 26,
   "metadata": {},
   "outputs": [
    {
     "data": {
      "text/latex": [
       "$\\displaystyle \\left[\\begin{matrix}-1 & 1 & 0 & 0\\\\1 & -2 & 1 & 0\\\\0 & 1 & -2 & 1\\\\0 & 0 & 1 & -1\\end{matrix}\\right]$"
      ],
      "text/plain": [
       "Matrix([\n",
       "[-1,  1,  0,  0],\n",
       "[ 1, -2,  1,  0],\n",
       "[ 0,  1, -2,  1],\n",
       "[ 0,  0,  1, -1]])"
      ]
     },
     "execution_count": 26,
     "metadata": {},
     "output_type": "execute_result"
    }
   ],
   "source": [
    "Matrix(laplacian(N,Omega).astype(int)*np.ones([4,1]).astype(int))"
   ]
  },
  {
   "cell_type": "code",
   "execution_count": 27,
   "metadata": {},
   "outputs": [
    {
     "data": {
      "text/plain": [
       "array([[0],\n",
       "       [0],\n",
       "       [0],\n",
       "       [0]])"
      ]
     },
     "execution_count": 27,
     "metadata": {},
     "output_type": "execute_result"
    }
   ],
   "source": [
    "laplacian(N,Omega).astype(int) @ np.ones([4,1]).astype(int)"
   ]
  },
  {
   "cell_type": "code",
   "execution_count": 28,
   "metadata": {},
   "outputs": [
    {
     "data": {
      "text/plain": [
       "array([1, 0, 0, 0, 0], dtype=object)"
      ]
     },
     "execution_count": 28,
     "metadata": {},
     "output_type": "execute_result"
    }
   ],
   "source": [
    "np.diag(Hm)"
   ]
  },
  {
   "cell_type": "code",
   "execution_count": 29,
   "metadata": {},
   "outputs": [
    {
     "ename": "NameError",
     "evalue": "name 'pbarm' is not defined",
     "output_type": "error",
     "traceback": [
      "\u001b[1;31m---------------------------------------------------------------------------\u001b[0m",
      "\u001b[1;31mNameError\u001b[0m                                 Traceback (most recent call last)",
      "Cell \u001b[1;32mIn[29], line 1\u001b[0m\n\u001b[1;32m----> 1\u001b[0m \u001b[43mpbarm\u001b[49m\u001b[38;5;241m.\u001b[39mtranspose()\n",
      "\u001b[1;31mNameError\u001b[0m: name 'pbarm' is not defined"
     ]
    }
   ],
   "source": [
    "pbarm.transpose()"
   ]
  },
  {
   "cell_type": "code",
   "execution_count": null,
   "metadata": {},
   "outputs": [
    {
     "data": {
      "text/latex": [
       "$\\displaystyle \\left[\\begin{matrix}1\\\\1\\\\1\\\\0\\\\0\\\\0\\\\0\\\\0\\end{matrix}\\right]$"
      ],
      "text/plain": [
       "Matrix([\n",
       "[1],\n",
       "[1],\n",
       "[1],\n",
       "[0],\n",
       "[0],\n",
       "[0],\n",
       "[0],\n",
       "[0]])"
      ]
     },
     "execution_count": 13,
     "metadata": {},
     "output_type": "execute_result"
    }
   ],
   "source": [
    "Hm.transpose()[:,0]"
   ]
  },
  {
   "cell_type": "code",
   "execution_count": null,
   "metadata": {},
   "outputs": [
    {
     "data": {
      "text/latex": [
       "$\\displaystyle \\left[\\begin{matrix}1 & 0 & 0 & 0 & 0 & 0 & 0 & 0\\\\0 & 1 & 0 & 0 & 0 & 0 & 0 & 0\\\\0 & 0 & 1 & 0 & 0 & 0 & 0 & 0\\\\0 & 0 & 0 & 0 & 0 & 0 & 0 & 0\\\\0 & 0 & 0 & 0 & 0 & 0 & 0 & 0\\\\0 & 0 & 0 & 0 & 0 & 0 & 0 & 0\\\\0 & 0 & 0 & 0 & 0 & 0 & 0 & 0\\\\0 & 0 & 0 & 0 & 0 & 0 & 0 & 0\\end{matrix}\\right]$"
      ],
      "text/plain": [
       "Matrix([\n",
       "[1, 0, 0, 0, 0, 0, 0, 0],\n",
       "[0, 1, 0, 0, 0, 0, 0, 0],\n",
       "[0, 0, 1, 0, 0, 0, 0, 0],\n",
       "[0, 0, 0, 0, 0, 0, 0, 0],\n",
       "[0, 0, 0, 0, 0, 0, 0, 0],\n",
       "[0, 0, 0, 0, 0, 0, 0, 0],\n",
       "[0, 0, 0, 0, 0, 0, 0, 0],\n",
       "[0, 0, 0, 0, 0, 0, 0, 0]])"
      ]
     },
     "execution_count": 14,
     "metadata": {},
     "output_type": "execute_result"
    }
   ],
   "source": [
    "Matrix(np.diagflat(Hm.transpose()[:,0])) # np.diagflat() para diag(h_i)"
   ]
  },
  {
   "cell_type": "code",
   "execution_count": null,
   "metadata": {},
   "outputs": [],
   "source": [
    "for i in range(5):\n",
    "    pbarm.transpose()*Hm*np.diagflat(Hm.transpose()[:,i])\n"
   ]
  },
  {
   "cell_type": "code",
   "execution_count": null,
   "metadata": {},
   "outputs": [],
   "source": [
    "E = Matrix([pbarm.transpose()*Hm*np.diagflat(Hm.transpose()[:,0]),pbarm.transpose()*Hm*np.diagflat(Hm.transpose()[:,1]),pbarm.transpose()*Hm*np.diagflat(Hm.transpose()[:,2]),pbarm.transpose()*Hm*np.diagflat(Hm.transpose()[:,3]),pbarm.transpose()*Hm*np.diagflat(Hm.transpose()[:,4])])"
   ]
  },
  {
   "cell_type": "code",
   "execution_count": null,
   "metadata": {},
   "outputs": [],
   "source": [
    "E=np.asarray(E).astype(float)"
   ]
  },
  {
   "cell_type": "code",
   "execution_count": null,
   "metadata": {},
   "outputs": [
    {
     "data": {
      "text/plain": [
       "array([[ 0. , -1. , -1. ,  0. ,  0. ,  0. ,  0. ,  0. ],\n",
       "       [-1. ,  0. , -1. ,  0. ,  0. ,  0. ,  0. ,  0. ],\n",
       "       [ 0. ,  0. ,  0. ,  0. ,  0. ,  0. ,  0. ,  0. ],\n",
       "       [ 0. ,  0. ,  0. , -1. , -1. ,  0. , -1.5,  0. ],\n",
       "       [ 1. ,  0. ,  0. ,  1. ,  0. ,  0. ,  0.5,  0. ],\n",
       "       [ 0. ,  0. ,  0. ,  0. ,  0. ,  0. ,  0. ,  0. ],\n",
       "       [ 0. ,  1. ,  0. ,  1. ,  0. ,  0. ,  0. ,  0. ],\n",
       "       [ 0. ,  0. ,  0. , -1. ,  0. , -1. ,  0. ,  0. ],\n",
       "       [ 0. ,  0. ,  0. ,  0. ,  0. ,  0. ,  0. ,  0. ],\n",
       "       [ 0. ,  0. ,  1. ,  0. ,  1. ,  0. ,  0. , -0.5],\n",
       "       [ 0. ,  0. ,  1. ,  0. ,  0. ,  1. ,  0. ,  0.5],\n",
       "       [ 0. ,  0. ,  0. ,  0. ,  0. ,  0. ,  0. ,  0. ],\n",
       "       [ 0. ,  0. ,  0. ,  0. ,  0. ,  0. ,  1.5,  0.5],\n",
       "       [ 0. ,  0. ,  0. ,  0. ,  0. ,  0. , -0.5, -0.5],\n",
       "       [ 0. ,  0. ,  0. ,  0. ,  0. ,  0. ,  0. ,  0. ]])"
      ]
     },
     "execution_count": 18,
     "metadata": {},
     "output_type": "execute_result"
    }
   ],
   "source": [
    "rango = np.linalg.matrix_rank(E)\n",
    "E"
   ]
  },
  {
   "cell_type": "code",
   "execution_count": null,
   "metadata": {},
   "outputs": [
    {
     "name": "stdout",
     "output_type": "stream",
     "text": [
      "[[-5.55111512e-17]\n",
      " [ 2.49800181e-16]\n",
      " [ 0.00000000e+00]\n",
      " [-5.55111512e-17]\n",
      " [ 2.77555756e-16]\n",
      " [ 0.00000000e+00]\n",
      " [ 1.11022302e-16]\n",
      " [ 0.00000000e+00]\n",
      " [ 0.00000000e+00]\n",
      " [ 3.33066907e-16]\n",
      " [-4.99600361e-16]\n",
      " [ 0.00000000e+00]\n",
      " [-2.22044605e-16]\n",
      " [ 1.38777878e-16]\n",
      " [ 0.00000000e+00]\n",
      " [ 2.22044605e-16]\n",
      " [-5.55111512e-17]\n",
      " [ 0.00000000e+00]\n",
      " [-3.33066907e-16]\n",
      " [-1.11022302e-16]\n",
      " [ 0.00000000e+00]]\n"
     ]
    },
    {
     "ename": "AttributeError",
     "evalue": "'NoneType' object has no attribute 'T'",
     "output_type": "error",
     "traceback": [
      "\u001b[1;31m---------------------------------------------------------------------------\u001b[0m",
      "\u001b[1;31mAttributeError\u001b[0m                            Traceback (most recent call last)",
      "Cell \u001b[1;32mIn[11], line 8\u001b[0m\n\u001b[0;32m      6\u001b[0m Z \u001b[38;5;241m=\u001b[39m Vt[rango:filas,:]\u001b[38;5;241m.\u001b[39mT\n\u001b[0;32m      7\u001b[0m \u001b[38;5;66;03m#comprbación de que Z expande el Null(E)\u001b[39;00m\n\u001b[1;32m----> 8\u001b[0m \u001b[38;5;28;43mprint\u001b[39;49m\u001b[43m(\u001b[49m\u001b[43mE\u001b[49m\u001b[38;5;129;43m@Z\u001b[39;49m\u001b[43m)\u001b[49m\u001b[38;5;241;43m.\u001b[39;49m\u001b[43mT\u001b[49m\n\u001b[0;32m      9\u001b[0m Z\n",
      "\u001b[1;31mAttributeError\u001b[0m: 'NoneType' object has no attribute 'T'"
     ]
    }
   ],
   "source": [
    "#calculamos ahora la descomposicion en valores singulares de E,\n",
    "U,S,Vt = np.linalg.svd(E,full_matrices= True) #no es necesario full matrices\n",
    "filas = Vt.shape[0]\n",
    "#y el espacio nullo de E (Cada columna de Z un vector de la base del\n",
    "# espacio Nulo)\n",
    "Z = Vt[rango:filas,:].T\n",
    "#comprbación de que Z expande el Null(E)\n",
    "print(E@Z)\n",
    "Z"
   ]
  },
  {
   "cell_type": "code",
   "execution_count": null,
   "metadata": {},
   "outputs": [
    {
     "data": {
      "text/plain": [
       "[Matrix([\n",
       " [ 1.0],\n",
       " [ 1.0],\n",
       " [-1.0],\n",
       " [-1.0],\n",
       " [ 1.0],\n",
       " [   1],\n",
       " [   0],\n",
       " [   0]])]"
      ]
     },
     "execution_count": 20,
     "metadata": {},
     "output_type": "execute_result"
    }
   ],
   "source": [
    "Matrix(E).nullspace()"
   ]
  },
  {
   "cell_type": "code",
   "execution_count": null,
   "metadata": {},
   "outputs": [],
   "source": [
    "from picos import RealVariable, Problem\n",
    "\n",
    "prob = Problem()\n",
    "X = RealVariable('X', pbar.shape)\n",
    "prob.add_constraint(X == pbar)\n",
    "prob.solve(verbosity = 0)\n",
    "X_value = X.value\n",
    "U,S,V = np.linalg.svd(X_value)"
   ]
  },
  {
   "cell_type": "code",
   "execution_count": null,
   "metadata": {},
   "outputs": [
    {
     "data": {
      "text/latex": [
       "$\\displaystyle \\left[\\begin{matrix}-0.226848915628901 & 0.273679144422304 & -0.771920667950075 & -0.244842393365183 & -0.466722594470192\\\\-0.353733691374797 & 0.767664064030434 & 0.0882416149266289 & -0.0841596419899687 & 0.520283511595263\\\\-0.423121239857875 & -0.361983491045478 & -0.435816898010693 & 0.573844428720334 & 0.41316167734512\\\\-0.550006015603771 & 0.132001428562652 & 0.424345384866011 & 0.41316167734512 & -0.573844428720334\\\\-0.584699789845311 & -0.432822348975304 & 0.162316128397351 & -0.658004070710303 & 0.107121834250143\\end{matrix}\\right]$"
      ],
      "text/plain": [
       "Matrix([\n",
       "[-0.226848915628901,  0.273679144422304, -0.771920667950075,  -0.244842393365183, -0.466722594470192],\n",
       "[-0.353733691374797,  0.767664064030434, 0.0882416149266289, -0.0841596419899687,  0.520283511595263],\n",
       "[-0.423121239857875, -0.361983491045478, -0.435816898010693,   0.573844428720334,   0.41316167734512],\n",
       "[-0.550006015603771,  0.132001428562652,  0.424345384866011,    0.41316167734512, -0.573844428720334],\n",
       "[-0.584699789845311, -0.432822348975304,  0.162316128397351,  -0.658004070710303,  0.107121834250143]])"
      ]
     },
     "execution_count": 22,
     "metadata": {},
     "output_type": "execute_result"
    }
   ],
   "source": [
    "Matrix(U)"
   ]
  },
  {
   "cell_type": "code",
   "execution_count": null,
   "metadata": {},
   "outputs": [
    {
     "data": {
      "text/plain": [
       "array([[-0.24484239, -0.46672259],\n",
       "       [-0.08415964,  0.52028351],\n",
       "       [ 0.57384443,  0.41316168],\n",
       "       [ 0.41316168, -0.57384443],\n",
       "       [-0.65800407,  0.10712183]])"
      ]
     },
     "execution_count": 23,
     "metadata": {},
     "output_type": "execute_result"
    }
   ],
   "source": [
    "U1 = U[:,0:3]\n",
    "U2 = U[:,3:]\n",
    "U2"
   ]
  },
  {
   "cell_type": "code",
   "execution_count": null,
   "metadata": {},
   "outputs": [],
   "source": [
    "Ue, Se, Ve =  np.linalg.svd(np.array(E).astype(int))"
   ]
  },
  {
   "cell_type": "code",
   "execution_count": null,
   "metadata": {},
   "outputs": [
    {
     "data": {
      "text/latex": [
       "$\\displaystyle \\left[\\begin{array}{ccccccccccccccc}0.312328471490177 & -0.39882090942552 & 0.0892802371371145 & 0.288675134594812 & -0.5 & -0.196092198694019 & 0.296639244720272 & -0.0490421185756819 & 0 & 0.049281456202096 & 0.446286028263664 & 0 & 0.267649979983194 & 0 & 0\\\\0.312328471490177 & -0.39882090942552 & 0.0892802371371126 & -0.577350269189626 & -6.16284564391687 \\cdot 10^{-17} & -0.196092198694019 & -0.258425431945003 & 0.44580524686616 & 0 & 0.134704113618118 & -0.211939821856222 & 0 & 0.18720751938134 & 0 & 0\\\\1.63709959005088 \\cdot 10^{-17} & 6.61704782385398 \\cdot 10^{-17} & 1.23726742876449 \\cdot 10^{-16} & -4.14158260464835 \\cdot 10^{-17} & -8.71654564711668 \\cdot 10^{-17} & -1.71529074992459 \\cdot 10^{-17} & 0.829384628912725 & 0.271183063772837 & 0 & 0.0545988679238473 & -0.478441500046191 & 0 & -0.081814289100765 & 0 & 0\\\\0.463228162539707 & 0.452875008071048 & -0.553899043037701 & 1.01264141850756 \\cdot 10^{-15} & -3.85453868832345 \\cdot 10^{-16} & 0.0281509127628426 & 0.00254431660570473 & -0.0987459629222646 & 0 & 0.282932303661915 & -0.0907421461769002 & 0 & 0.417953596035025 & 0 & 0\\\\-0.35287803619629 & -0.248638123461877 & -0.337087983237422 & 0.577350269189626 & 7.71494216389759 \\cdot 10^{-17} & -0.0553007207804389 & -0.258425431945003 & 0.44580524686616 & 0 & 0.134704113618118 & -0.211939821856222 & 0 & 0.18720751938134 & 0 & 0\\\\-5.8010249864732 \\cdot 10^{-18} & -9.16226513400302 \\cdot 10^{-18} & 2.22329986491943 \\cdot 10^{-17} & -6.50964321202886 \\cdot 10^{-32} & 1.84889274661175 \\cdot 10^{-32} & 4.96946200341003 \\cdot 10^{-17} & 1.65615432383973 \\cdot 10^{-19} & 0.0620808854472055 & 0 & 0.834349007117018 & 0.216441750962177 & 0 & -0.503150739267432 & 0 & 0\\\\-0.35287803619629 & -0.248638123461877 & -0.337087983237424 & -0.288675134594812 & 0.5 & -0.0553007207804396 & 0.296639244720272 & -0.049042118575682 & 0 & 0.049281456202096 & 0.446286028263664 & 0 & 0.267649979983194 & 0 & 0\\\\0.35287803619629 & 0.248638123461876 & 0.337087983237424 & 0.288675134594812 & 0.5 & 0.0553007207804392 & 0.0356694961695643 & 0.495509091212742 & 0 & -0.0989467338417014 & 0.325088352584342 & 0 & 0.0369039033295089 & 0 & 0\\\\0 & 0 & 0 & 0 & 0 & 0 & 0 & 0 & 1.0 & 0 & 0 & 0 & 0 & 0 & 0\\\\-0.333558616738037 & 0.335342062824947 & 0.460145698824841 & -3.19626211042628 \\cdot 10^{-16} & 1.14146492248975 \\cdot 10^{-16} & -0.540206454261556 & 0.00254431660570476 & -0.0987459629222647 & 0 & 0.282932303661916 & -0.0907421461769002 & 0 & 0.417953596035025 & 0 & 0\\\\-0.312328471490177 & 0.398820909425521 & -0.0892802371371142 & -0.288675134594813 & -0.5 & 0.196092198694019 & 0.0356694961695644 & 0.495509091212742 & 0 & -0.0989467338417014 & 0.325088352584341 & 0 & 0.0369039033295089 & 0 & 0\\\\0 & 0 & 0 & 0 & 0 & 0 & 0 & 0 & 0 & 0 & 0 & 1.0 & 0 & 0 & 0\\\\-0.0891199810955563 & -0.140758038008599 & 0.341561090313169 & -1.00006340491136 \\cdot 10^{-15} & 2.84041677134588 \\cdot 10^{-16} & 0.763448460973172 & 0.00254431660570477 & -0.0987459629222646 & 0 & 0.282932303661915 & -0.0907421461769001 & 0 & 0.417953596035025 & 0 & 0\\\\0 & 0 & 0 & 0 & 0 & 0 & 0 & 0 & 0 & 0 & 0 & 0 & 0 & 1.0 & 0\\\\0 & 0 & 0 & 0 & 0 & 0 & 0 & 0 & 0 & 0 & 0 & 0 & 0 & 0 & 1.0\\end{array}\\right]$"
      ],
      "text/plain": [
       "Matrix([\n",
       "[   0.312328471490177,     -0.39882090942552,   0.0892802371371145,     0.288675134594812,                  -0.5,    -0.196092198694019,    0.296639244720272, -0.0490421185756819,   0,   0.049281456202096,   0.446286028263664,   0,  0.267649979983194,   0,   0],\n",
       "[   0.312328471490177,     -0.39882090942552,   0.0892802371371126,    -0.577350269189626, -6.16284564391687e-17,    -0.196092198694019,   -0.258425431945003,    0.44580524686616,   0,   0.134704113618118,  -0.211939821856222,   0,   0.18720751938134,   0,   0],\n",
       "[1.63709959005088e-17,  6.61704782385398e-17, 1.23726742876449e-16, -4.14158260464835e-17, -8.71654564711668e-17, -1.71529074992459e-17,    0.829384628912725,   0.271183063772837,   0,  0.0545988679238473,  -0.478441500046191,   0, -0.081814289100765,   0,   0],\n",
       "[   0.463228162539707,     0.452875008071048,   -0.553899043037701,  1.01264141850756e-15, -3.85453868832345e-16,    0.0281509127628426,  0.00254431660570473, -0.0987459629222646,   0,   0.282932303661915, -0.0907421461769002,   0,  0.417953596035025,   0,   0],\n",
       "[   -0.35287803619629,    -0.248638123461877,   -0.337087983237422,     0.577350269189626,  7.71494216389759e-17,   -0.0553007207804389,   -0.258425431945003,    0.44580524686616,   0,   0.134704113618118,  -0.211939821856222,   0,   0.18720751938134,   0,   0],\n",
       "[-5.8010249864732e-18, -9.16226513400302e-18, 2.22329986491943e-17, -6.50964321202886e-32,  1.84889274661175e-32,  4.96946200341003e-17, 1.65615432383973e-19,  0.0620808854472055,   0,   0.834349007117018,   0.216441750962177,   0, -0.503150739267432,   0,   0],\n",
       "[   -0.35287803619629,    -0.248638123461877,   -0.337087983237424,    -0.288675134594812,                   0.5,   -0.0553007207804396,    0.296639244720272,  -0.049042118575682,   0,   0.049281456202096,   0.446286028263664,   0,  0.267649979983194,   0,   0],\n",
       "[    0.35287803619629,     0.248638123461876,    0.337087983237424,     0.288675134594812,                   0.5,    0.0553007207804392,   0.0356694961695643,   0.495509091212742,   0, -0.0989467338417014,   0.325088352584342,   0, 0.0369039033295089,   0,   0],\n",
       "[                   0,                     0,                    0,                     0,                     0,                     0,                    0,                   0, 1.0,                   0,                   0,   0,                  0,   0,   0],\n",
       "[  -0.333558616738037,     0.335342062824947,    0.460145698824841, -3.19626211042628e-16,  1.14146492248975e-16,    -0.540206454261556,  0.00254431660570476, -0.0987459629222647,   0,   0.282932303661916, -0.0907421461769002,   0,  0.417953596035025,   0,   0],\n",
       "[  -0.312328471490177,     0.398820909425521,  -0.0892802371371142,    -0.288675134594813,                  -0.5,     0.196092198694019,   0.0356694961695644,   0.495509091212742,   0, -0.0989467338417014,   0.325088352584341,   0, 0.0369039033295089,   0,   0],\n",
       "[                   0,                     0,                    0,                     0,                     0,                     0,                    0,                   0,   0,                   0,                   0, 1.0,                  0,   0,   0],\n",
       "[ -0.0891199810955563,    -0.140758038008599,    0.341561090313169, -1.00006340491136e-15,  2.84041677134588e-16,     0.763448460973172,  0.00254431660570477, -0.0987459629222646,   0,   0.282932303661915, -0.0907421461769001,   0,  0.417953596035025,   0,   0],\n",
       "[                   0,                     0,                    0,                     0,                     0,                     0,                    0,                   0,   0,                   0,                   0,   0,                  0, 1.0,   0],\n",
       "[                   0,                     0,                    0,                     0,                     0,                     0,                    0,                   0,   0,                   0,                   0,   0,                  0,   0, 1.0]])"
      ]
     },
     "execution_count": 25,
     "metadata": {},
     "output_type": "execute_result"
    }
   ],
   "source": [
    "Matrix(Ue)"
   ]
  },
  {
   "cell_type": "code",
   "execution_count": null,
   "metadata": {},
   "outputs": [
    {
     "data": {
      "text/plain": [
       "array([[-0.16068275, -0.81868682, -0.65800407, -0.65800407, -0.49732132,\n",
       "         0.16068275,  0.57384443,  1.07116575],\n",
       "       [-0.98700611, -0.87988427,  0.10712183,  0.10712183,  1.09412794,\n",
       "         0.98700611,  0.41316168, -0.68096626]])"
      ]
     },
     "execution_count": 26,
     "metadata": {},
     "output_type": "execute_result"
    }
   ],
   "source": [
    "U2.T@H"
   ]
  },
  {
   "cell_type": "code",
   "execution_count": null,
   "metadata": {},
   "outputs": [
    {
     "data": {
      "text/plain": [
       "array([[[-0.24484239, -0.24484239, -0.24484239, -0.        ,\n",
       "         -0.        , -0.        , -0.        , -0.        ],\n",
       "        [ 0.08415964, -0.        , -0.        , -0.08415964,\n",
       "         -0.08415964, -0.        , -0.08415964, -0.        ],\n",
       "        [ 0.        , -0.57384443,  0.        , -0.57384443,\n",
       "          0.        ,  0.57384443,  0.        ,  0.        ],\n",
       "        [ 0.        ,  0.        , -0.41316168,  0.        ,\n",
       "         -0.41316168, -0.41316168,  0.        ,  0.41316168],\n",
       "        [-0.        , -0.        , -0.        , -0.        ,\n",
       "         -0.        , -0.        ,  0.65800407,  0.65800407]],\n",
       "\n",
       "       [[-0.46672259, -0.46672259, -0.46672259, -0.        ,\n",
       "         -0.        , -0.        , -0.        , -0.        ],\n",
       "        [-0.52028351,  0.        ,  0.        ,  0.52028351,\n",
       "          0.52028351,  0.        ,  0.52028351,  0.        ],\n",
       "        [ 0.        , -0.41316168,  0.        , -0.41316168,\n",
       "          0.        ,  0.41316168,  0.        ,  0.        ],\n",
       "        [-0.        , -0.        ,  0.57384443, -0.        ,\n",
       "          0.57384443,  0.57384443, -0.        , -0.57384443],\n",
       "        [ 0.        ,  0.        ,  0.        ,  0.        ,\n",
       "          0.        ,  0.        , -0.10712183, -0.10712183]]])"
      ]
     },
     "execution_count": 27,
     "metadata": {},
     "output_type": "execute_result"
    }
   ],
   "source": [
    "(np.array([U2]).T*H)"
   ]
  },
  {
   "cell_type": "code",
   "execution_count": null,
   "metadata": {},
   "outputs": [
    {
     "data": {
      "text/latex": [
       "$\\displaystyle \\left[\\begin{matrix}-0.160682751375214 & -0.818686822085517 & -0.658004070710303 & -0.658004070710303 & -0.497321319335089 & 0.160682751375214 & 0.573844428720334 & 1.07116574805542\\\\-0.987006106065455 & -0.879884271815312 & 0.107121834250143 & 0.107121834250143 & 1.0941279403156 & 0.987006106065454 & 0.41316167734512 & -0.680966262970477\\end{matrix}\\right]$"
      ],
      "text/plain": [
       "Matrix([\n",
       "[-0.160682751375214, -0.818686822085517, -0.658004070710303, -0.658004070710303, -0.497321319335089, 0.160682751375214, 0.573844428720334,   1.07116574805542],\n",
       "[-0.987006106065455, -0.879884271815312,  0.107121834250143,  0.107121834250143,    1.0941279403156, 0.987006106065454,  0.41316167734512, -0.680966262970477]])"
      ]
     },
     "execution_count": 28,
     "metadata": {},
     "output_type": "execute_result"
    }
   ],
   "source": [
    "Matrix(U2.T@H)"
   ]
  },
  {
   "cell_type": "code",
   "execution_count": null,
   "metadata": {},
   "outputs": [
    {
     "ename": "AttributeError",
     "evalue": "'numpy.ndarray' object has no attribute 'nullspace'",
     "output_type": "error",
     "traceback": [
      "\u001b[1;31m---------------------------------------------------------------------------\u001b[0m",
      "\u001b[1;31mAttributeError\u001b[0m                            Traceback (most recent call last)",
      "Cell \u001b[1;32mIn[29], line 1\u001b[0m\n\u001b[1;32m----> 1\u001b[0m Matrix(np\u001b[38;5;241m.\u001b[39mdiagflat(\u001b[43mE\u001b[49m\u001b[38;5;241;43m.\u001b[39;49m\u001b[43mnullspace\u001b[49m()[\u001b[38;5;241m0\u001b[39m])\u001b[38;5;241m.\u001b[39mastype(\u001b[38;5;28mint\u001b[39m))\n",
      "\u001b[1;31mAttributeError\u001b[0m: 'numpy.ndarray' object has no attribute 'nullspace'"
     ]
    }
   ],
   "source": [
    "Matrix(np.diagflat(E.nullspace()[0]).astype(int))"
   ]
  },
  {
   "cell_type": "code",
   "execution_count": null,
   "metadata": {},
   "outputs": [
    {
     "data": {
      "text/latex": [
       "$\\displaystyle \\left[\\begin{matrix}0.5 & 0.5 & 0 & 0\\\\0.5 & 0 & 0.5 & 0\\\\0.5 & 0 & 0 & -0.5\\\\0 & -0.5 & 0.5 & 0\\\\0 & -0.5 & 0 & -0.5\\\\0 & 0 & -0.5 & -0.5\\end{matrix}\\right]$"
      ],
      "text/plain": [
       "Matrix([\n",
       "[0.5,  0.5,    0,    0],\n",
       "[0.5,    0,  0.5,    0],\n",
       "[0.5,    0,    0, -0.5],\n",
       "[  0, -0.5,  0.5,    0],\n",
       "[  0, -0.5,    0, -0.5],\n",
       "[  0,    0, -0.5, -0.5]])"
      ]
     },
     "execution_count": 71,
     "metadata": {},
     "output_type": "execute_result"
    }
   ],
   "source": [
    "Matrix(H.T*U2)"
   ]
  },
  {
   "cell_type": "code",
   "execution_count": null,
   "metadata": {},
   "outputs": [
    {
     "data": {
      "text/latex": [
       "$\\displaystyle \\left[\\begin{matrix}0.5 & 0.5 & -0.5 & 0 & 0 & 0\\\\0.5 & 0 & 0 & 0.5 & -0.5 & 0\\\\0 & 0.5 & 0 & -0.5 & 0 & -0.5\\\\0 & 0 & 0.5 & 0 & -0.5 & -0.5\\end{matrix}\\right]$"
      ],
      "text/plain": [
       "Matrix([\n",
       "[0.5, 0.5, -0.5,    0,    0,    0],\n",
       "[0.5,   0,    0,  0.5, -0.5,    0],\n",
       "[  0, 0.5,    0, -0.5,    0, -0.5],\n",
       "[  0,   0,  0.5,    0, -0.5, -0.5]])"
      ]
     },
     "execution_count": 72,
     "metadata": {},
     "output_type": "execute_result"
    }
   ],
   "source": [
    "Matrix(np.array([U2]).T*H @ np.diagflat(E.nullspace()[0]).astype(int))"
   ]
  },
  {
   "cell_type": "code",
   "execution_count": null,
   "metadata": {},
   "outputs": [],
   "source": [
    "M = Matrix(U2.T @ H @ np.diagflat(Matrix(E).nullspace()[0]).astype(int)@ H.T @ U2)"
   ]
  },
  {
   "cell_type": "code",
   "execution_count": null,
   "metadata": {},
   "outputs": [],
   "source": [
    "M = Matrix(U2.T @ H @ np.diagflat(E.nullspace()[0]).astype(int)@ H.T @ U2)"
   ]
  },
  {
   "cell_type": "code",
   "execution_count": null,
   "metadata": {},
   "outputs": [
    {
     "data": {
      "text/plain": [
       "[]"
      ]
     },
     "execution_count": 38,
     "metadata": {},
     "output_type": "execute_result"
    }
   ],
   "source": [
    "Mar = np.asarray(M).astype(float)\n",
    "M.nullspace()\n"
   ]
  },
  {
   "cell_type": "code",
   "execution_count": null,
   "metadata": {},
   "outputs": [
    {
     "data": {
      "text/latex": [
       "$\\displaystyle \\left[\\begin{matrix}-3\\\\0\\\\1\\end{matrix}\\right]$"
      ],
      "text/plain": [
       "Matrix([\n",
       "[-3],\n",
       "[ 0],\n",
       "[ 1]])"
      ]
     },
     "execution_count": 73,
     "metadata": {},
     "output_type": "execute_result"
    }
   ],
   "source": [
    "Matrix(np.array([[1,2,3],[2,4,6],[3,6,9]])).nullspace()[1]"
   ]
  },
  {
   "cell_type": "code",
   "execution_count": null,
   "metadata": {},
   "outputs": [
    {
     "ename": "NameError",
     "evalue": "name 'Z' is not defined",
     "output_type": "error",
     "traceback": [
      "\u001b[1;31m---------------------------------------------------------------------------\u001b[0m",
      "\u001b[1;31mNameError\u001b[0m                                 Traceback (most recent call last)",
      "Cell \u001b[1;32mIn[28], line 6\u001b[0m\n\u001b[0;32m      4\u001b[0m Up,Sp,Vtp \u001b[38;5;241m=\u001b[39m np\u001b[38;5;241m.\u001b[39mlinalg\u001b[38;5;241m.\u001b[39msvd(pbar)\n\u001b[0;32m      5\u001b[0m U2 \u001b[38;5;241m=\u001b[39m Up[:,pt\u001b[38;5;241m.\u001b[39mshape[\u001b[38;5;241m1\u001b[39m]\u001b[38;5;241m+\u001b[39m\u001b[38;5;241m1\u001b[39m:]\n\u001b[1;32m----> 6\u001b[0m \u001b[38;5;28;01mfor\u001b[39;00m i \u001b[38;5;129;01min\u001b[39;00m \u001b[43mZ\u001b[49m\u001b[38;5;241m.\u001b[39mT:\n\u001b[0;32m      7\u001b[0m     M\u001b[38;5;241m.\u001b[39mappend(U2\u001b[38;5;241m.\u001b[39mT \u001b[38;5;241m@\u001b[39m H \u001b[38;5;241m@\u001b[39m np\u001b[38;5;241m.\u001b[39mdiag(i) \u001b[38;5;241m@\u001b[39m H\u001b[38;5;241m.\u001b[39mT \u001b[38;5;241m@\u001b[39m U2)\n",
      "\u001b[1;31mNameError\u001b[0m: name 'Z' is not defined"
     ]
    }
   ],
   "source": [
    "#calculamos la descomposicion SVD de Pr_b\n",
    "#y creamos una lista de matrices Mi\n",
    "M = []\n",
    "Up,Sp,Vtp = np.linalg.svd(pbar)\n",
    "U2 = Up[:,pt.shape[1]+1:]\n",
    "for i in Z.T:\n",
    "    M.append(U2.T @ H @ np.diag(i) @ H.T @ U2)"
   ]
  },
  {
   "cell_type": "code",
   "execution_count": null,
   "metadata": {},
   "outputs": [
    {
     "data": {
      "text/plain": [
       "[array([[0.04216216, 0.25898432],\n",
       "        [0.25898432, 1.590831  ]])]"
      ]
     },
     "execution_count": 33,
     "metadata": {},
     "output_type": "execute_result"
    }
   ],
   "source": [
    "M"
   ]
  },
  {
   "cell_type": "code",
   "execution_count": null,
   "metadata": {},
   "outputs": [
    {
     "ename": "NameError",
     "evalue": "name 'M' is not defined",
     "output_type": "error",
     "traceback": [
      "\u001b[1;31m---------------------------------------------------------------------------\u001b[0m",
      "\u001b[1;31mNameError\u001b[0m                                 Traceback (most recent call last)",
      "Cell \u001b[1;32mIn[27], line 5\u001b[0m\n\u001b[0;32m      2\u001b[0m \u001b[38;5;66;03m#planteamos un bonito problema LMI en picos    \u001b[39;00m\n\u001b[0;32m      3\u001b[0m P \u001b[38;5;241m=\u001b[39m picos\u001b[38;5;241m.\u001b[39mProblem()\n\u001b[1;32m----> 5\u001b[0m c \u001b[38;5;241m=\u001b[39m picos\u001b[38;5;241m.\u001b[39mRealVariable(\u001b[38;5;124m\"\u001b[39m\u001b[38;5;124mc\u001b[39m\u001b[38;5;124m\"\u001b[39m,\u001b[38;5;28mlen\u001b[39m(\u001b[43mM\u001b[49m))\n\u001b[0;32m      6\u001b[0m M_L \u001b[38;5;241m=\u001b[39m [picos\u001b[38;5;241m.\u001b[39mConstant(Mi) \u001b[38;5;28;01mfor\u001b[39;00m Mi \u001b[38;5;129;01min\u001b[39;00m M]\n\u001b[0;32m      7\u001b[0m S \u001b[38;5;241m=\u001b[39m picos\u001b[38;5;241m.\u001b[39msum(M_L[i]\u001b[38;5;241m*\u001b[39mc[i] \u001b[38;5;28;01mfor\u001b[39;00m i \u001b[38;5;129;01min\u001b[39;00m \u001b[38;5;28mrange\u001b[39m(\u001b[38;5;28mlen\u001b[39m(M_L)))\n",
      "\u001b[1;31mNameError\u001b[0m: name 'M' is not defined"
     ]
    }
   ],
   "source": [
    "import picos\n",
    "#planteamos un bonito problema LMI en picos    \n",
    "P = picos.Problem()\n",
    "\n",
    "c = picos.RealVariable(\"c\",len(M))\n",
    "M_L = [picos.Constant(Mi) for Mi in M]\n",
    "S = picos.sum(M_L[i]*c[i] for i in range(len(M_L)))\n",
    "P.add_constraint(S>>0)\n",
    "print(P)\n",
    "P.solve()\n",
    "\n",
    "#esto puede dar errores ojo\n",
    "cn = np.array([c.np])\n",
    "\n",
    "#Construimos el vector de pesos y la matriz de pesos.\n",
    "w = [sum(Z[:,i]*cn[i] for i in range(Z.shape[1]))]\n",
    "w = w[0]\n",
    "Omg = H @ np.diag(w) @ H.T \n",
    "\n",
    "A = [(1,2),(1,3),(1,4),(2,3),(2,4),(3,4),(3,5),(4,5)]\n",
    "#dibujamos que siempre ayuda...\n",
    "plt.plot(pt[:,0],pt[:,1],'o')\n",
    "for i in enumerate(pt):\n",
    "    plt.gca().text(i[1][0]+0.01,i[1][1]+0.01,str(i[0]+1))\n",
    "for i in enumerate(A):\n",
    "    plt.plot(pt[[i[1][0]-1,i[1][1]-1],0],pt[[i[1][0]-1,i[1][1]-1],1])\n",
    "    plt.gca().text(np.mean(pt[[i[1][0]-1,i[1][1]-1],0]),\\\n",
    "        np.mean(pt[[i[1][0]-1,i[1][1]-1],1]),str(w[i[0]])[0:6],\\\n",
    "            rotation=180*np.arctan2(pt[i[1][0]-1,1]-pt[i[1][1]-1,1],\\\n",
    "                                pt[i[1][0]-1,0]-pt[i[1][1]-1,0])/np.pi)"
   ]
  },
  {
   "cell_type": "code",
   "execution_count": null,
   "metadata": {},
   "outputs": [
    {
     "ename": "NameError",
     "evalue": "name 'A' is not defined",
     "output_type": "error",
     "traceback": [
      "\u001b[1;31m---------------------------------------------------------------------------\u001b[0m",
      "\u001b[1;31mNameError\u001b[0m                                 Traceback (most recent call last)",
      "Cell \u001b[1;32mIn[26], line 5\u001b[0m\n\u001b[0;32m      2\u001b[0m \u001b[38;5;28;01mfor\u001b[39;00m i \u001b[38;5;129;01min\u001b[39;00m \u001b[38;5;28menumerate\u001b[39m(pt):\n\u001b[0;32m      3\u001b[0m     plt\u001b[38;5;241m.\u001b[39mgca()\u001b[38;5;241m.\u001b[39mtext(i[\u001b[38;5;241m1\u001b[39m][\u001b[38;5;241m0\u001b[39m]\u001b[38;5;241m+\u001b[39m\u001b[38;5;241m0.01\u001b[39m,i[\u001b[38;5;241m1\u001b[39m][\u001b[38;5;241m1\u001b[39m]\u001b[38;5;241m+\u001b[39m\u001b[38;5;241m0.01\u001b[39m,\u001b[38;5;28mstr\u001b[39m(i[\u001b[38;5;241m0\u001b[39m]\u001b[38;5;241m+\u001b[39m\u001b[38;5;241m1\u001b[39m))\n\u001b[1;32m----> 5\u001b[0m \u001b[38;5;28;01mfor\u001b[39;00m i \u001b[38;5;129;01min\u001b[39;00m \u001b[38;5;28menumerate\u001b[39m(\u001b[43mA\u001b[49m):\n\u001b[0;32m      6\u001b[0m     plt\u001b[38;5;241m.\u001b[39mplot(pt[[i[\u001b[38;5;241m1\u001b[39m][\u001b[38;5;241m0\u001b[39m]\u001b[38;5;241m-\u001b[39m\u001b[38;5;241m1\u001b[39m,i[\u001b[38;5;241m1\u001b[39m][\u001b[38;5;241m1\u001b[39m]\u001b[38;5;241m-\u001b[39m\u001b[38;5;241m1\u001b[39m],\u001b[38;5;241m0\u001b[39m],pt[[i[\u001b[38;5;241m1\u001b[39m][\u001b[38;5;241m0\u001b[39m]\u001b[38;5;241m-\u001b[39m\u001b[38;5;241m1\u001b[39m,i[\u001b[38;5;241m1\u001b[39m][\u001b[38;5;241m1\u001b[39m]\u001b[38;5;241m-\u001b[39m\u001b[38;5;241m1\u001b[39m],\u001b[38;5;241m1\u001b[39m])\n",
      "\u001b[1;31mNameError\u001b[0m: name 'A' is not defined"
     ]
    },
    {
     "data": {
      "image/png": "[encoded data removed]",
      "text/plain": [
       "<Figure size 640x480 with 1 Axes>"
      ]
     },
     "metadata": {},
     "output_type": "display_data"
    }
   ],
   "source": [
    "plt.plot(pt[:,0],pt[:,1],'o')\n",
    "for i in enumerate(pt):\n",
    "    plt.gca().text(i[1][0]+0.01,i[1][1]+0.01,str(i[0]+1))\n",
    "\n",
    "for i in enumerate(A):\n",
    "    plt.plot(pt[[i[1][0]-1,i[1][1]-1],0],pt[[i[1][0]-1,i[1][1]-1],1])"
   ]
  },
  {
   "cell_type": "code",
   "execution_count": null,
   "metadata": {},
   "outputs": [
    {
     "data": {
      "text/latex": [
       "$\\displaystyle \\left[\\begin{matrix}0.249999996050208 & -0.249999996050208 & -0.249999996050208 & 0.249999996050208 & 0\\\\-0.249999996050208 & 0.249999996050208 & 0.249999996050208 & -0.249999996050208 & -6.7986996701388 \\cdot 10^{-17}\\\\-0.249999996050208 & 0.249999996050208 & 0.249999996050208 & -0.249999996050208 & 0\\\\0.249999996050208 & -0.249999996050208 & -0.249999996050208 & 0.249999996050208 & 5.94886221137145 \\cdot 10^{-17}\\\\0 & -6.7986996701388 \\cdot 10^{-17} & 0 & 5.94886221137145 \\cdot 10^{-17} & 8.4983745876735 \\cdot 10^{-18}\\end{matrix}\\right]$"
      ],
      "text/plain": [
       "Matrix([\n",
       "[ 0.249999996050208,   -0.249999996050208, -0.249999996050208,    0.249999996050208,                    0],\n",
       "[-0.249999996050208,    0.249999996050208,  0.249999996050208,   -0.249999996050208, -6.7986996701388e-17],\n",
       "[-0.249999996050208,    0.249999996050208,  0.249999996050208,   -0.249999996050208,                    0],\n",
       "[ 0.249999996050208,   -0.249999996050208, -0.249999996050208,    0.249999996050208, 5.94886221137145e-17],\n",
       "[                 0, -6.7986996701388e-17,                  0, 5.94886221137145e-17,  8.4983745876735e-18]])"
      ]
     },
     "execution_count": 36,
     "metadata": {},
     "output_type": "execute_result"
    }
   ],
   "source": [
    "Matrix(Omg)"
   ]
  },
  {
   "cell_type": "code",
   "execution_count": null,
   "metadata": {},
   "outputs": [
    {
     "name": "stdout",
     "output_type": "stream",
     "text": [
      "[[-5.55111512e-17]\n",
      " [ 2.49800181e-16]\n",
      " [ 0.00000000e+00]\n",
      " [-5.55111512e-17]\n",
      " [ 2.77555756e-16]\n",
      " [ 0.00000000e+00]\n",
      " [ 1.11022302e-16]\n",
      " [ 0.00000000e+00]\n",
      " [ 0.00000000e+00]\n",
      " [ 3.33066907e-16]\n",
      " [-4.99600361e-16]\n",
      " [ 0.00000000e+00]\n",
      " [-2.22044605e-16]\n",
      " [ 1.38777878e-16]\n",
      " [ 0.00000000e+00]\n",
      " [ 2.22044605e-16]\n",
      " [-5.55111512e-17]\n",
      " [ 0.00000000e+00]\n",
      " [-3.33066907e-16]\n",
      " [-1.11022302e-16]\n",
      " [ 0.00000000e+00]]\n",
      "Feasibility Problem\n",
      "  find an assignment\n",
      "  for\n",
      "    1×1 real variable c\n",
      "  subject to\n",
      "    [4×4]·c[0] ≽ 0\n"
     ]
    }
   ],
   "source": [
    "# -*- coding: utf-8 -*-\n",
    "\"\"\"\n",
    "Created on Sat Apr 27 19:39:47 2024\n",
    "\n",
    "@author: abierto\n",
    "\"\"\"\n",
    "\n",
    "#!/usr/bin/env python3\n",
    "# -*- coding: utf-8 -*-\n",
    "\"\"\"\n",
    "Created on Wed Mar 22 16:33:38 2020\n",
    "Ejemplo de obtención vector de stress para el paper de Zhao\n",
    "Usando picos\n",
    "@author: juanjimenez\n",
    "\"\"\"\n",
    "import numpy as np\n",
    "import matplotlib \n",
    "import matplotlib.pyplot as pl\n",
    "import picos\n",
    "\n",
    "#creamos la matriz de incidencia en su caso tiene 7 vertices\n",
    "V = {1,2,3,4,5,6,7} \n",
    "#y 12 aristas\n",
    "A = [(1,2),(1,3),(1,4),(1,5),(2,4),(2,7),(3,5),(3,6),(4,5),(4,6),(5,7),(6,7)] \n",
    "# Hemos orientado el grafo por tanto.\n",
    "# creamos la configuracion, le damos directamente la forma de P(r)\n",
    "Pr = np.array([[2,0],[1,1],[1,-1],[0,1],[0,-1],[-1,1],[-1,-1]])\n",
    "\n",
    "H=np.zeros([len(V),len(A)])\n",
    "for i in enumerate(A):\n",
    "    H[i[1][0]-1,i[0]] = -1\n",
    "    H[i[1][1]-1,i[0]] = 1\n",
    "#Nuestra matriz de incidencia es la traspueta de la que define Zhao!!!\n",
    "\n",
    "\n",
    "Pr_b = np.append(Pr,np.ones([Pr.shape[0],1]),axis=1)\n",
    "\n",
    "#calculamos la matriz E \n",
    "E =Pr_b.T @ H @ np.diag(H[0,:])\n",
    "for i in range(1,len(V)):\n",
    "    E =np.append(E,Pr_b.T @ H @ np.diag(H[i,:]),axis=0)\n",
    "\n",
    "#calculamos ahora el subespacio nulo de E\n",
    "#primero calculamos el rango de E, así sabemos a partir de qué vector\n",
    "#columna de la matriz V E=U@S@V.T, empieza la base del kernel de A.\n",
    "rango = np.linalg.matrix_rank(E)\n",
    "\n",
    "#calculamos ahora la descomposicion en valores singulares de E,\n",
    "U,S,Vt = np.linalg.svd(E,full_matrices= True) #no es necesario full matrices\n",
    "filas = Vt.shape[0]\n",
    "#y el espacio nullo de E (Cada columna de Z un vector de la base del\n",
    "# espacio Nulo)\n",
    "Z = Vt[rango:filas,:].T\n",
    "#comprbación de que Z expande el Null(E)\n",
    "print(E@Z)\n",
    "\n",
    "#calculamos la descomposicion SVD de Pr_b\n",
    "#y creamos una lista de matrices Mi\n",
    "M = []\n",
    "Up,Sp,Vtp = np.linalg.svd(Pr_b)\n",
    "U2 = Up[:,Pr.shape[1]+1:]\n",
    "for i in Z.T:\n",
    "    M.append(U2.T @ H @ np.diag(i) @ H.T @ U2)\n",
    "    \n",
    "#planteamos un bonito problema LMI en picos    \n",
    "P = picos.Problem()\n",
    "\n",
    "c = picos.RealVariable(\"c\",len(M))\n",
    "M_L = [picos.Constant(Mi) for Mi in M]\n",
    "S = picos.sum(M_L[i]*c[i] for i in range(len(M_L)))\n",
    "P.add_constraint(S>>0)\n",
    "print(P)\n",
    "P.solve()\n",
    "\n",
    "#esto puede dar errores ojo\n",
    "cn = np.array([c.np])\n",
    "\n",
    "#Construimos el vector de pesos y la matriz de pesos.\n",
    "w = [sum(Z[:,i]*cn[i] for i in range(Z.shape[1]))]\n",
    "w = w[0]\n",
    "Omg = H @ np.diag(w) @ H.T    "
   ]
  },
  {
   "cell_type": "code",
   "execution_count": null,
   "metadata": {},
   "outputs": [
    {
     "data": {
      "text/plain": [
       "array([ 0.2962963 ,  0.2962963 , -0.14814815, -0.14814815,  0.59259259,\n",
       "       -0.14814815,  0.59259259, -0.14814815,  0.07407407,  0.2962963 ,\n",
       "        0.2962963 ,  0.14814815])"
      ]
     },
     "execution_count": 102,
     "metadata": {},
     "output_type": "execute_result"
    }
   ],
   "source": [
    "w = [sum(Z[:,i]*cn[i] for i in range(Z.shape[1]))]\n",
    "w[0]\n"
   ]
  },
  {
   "cell_type": "code",
   "execution_count": 31,
   "metadata": {},
   "outputs": [
    {
     "name": "stdout",
     "output_type": "stream",
     "text": [
      "[[-4.44089210e-16]\n",
      " [-5.55111512e-17]\n",
      " [ 0.00000000e+00]\n",
      " [ 0.00000000e+00]\n",
      " [-1.66533454e-16]\n",
      " [ 0.00000000e+00]\n",
      " [ 1.78122341e-16]\n",
      " [ 1.15888872e-17]\n",
      " [ 0.00000000e+00]\n",
      " [ 2.22044605e-16]\n",
      " [ 1.66533454e-16]\n",
      " [ 0.00000000e+00]\n",
      " [ 4.39222640e-17]\n",
      " [ 4.39222640e-17]\n",
      " [ 0.00000000e+00]]\n",
      "Feasibility Problem\n",
      "  find an assignment\n",
      "  for\n",
      "    1×1 real variable c\n",
      "  subject to\n",
      "    [2×2]·c[0] ≽ 0\n"
     ]
    },
    {
     "ename": "ValueError",
     "evalue": "matmul: Input operand 1 has a mismatch in its core dimension 0, with gufunc signature (n?,k),(k,m?)->(n?,m?) (size 14 is different from 10)",
     "output_type": "error",
     "traceback": [
      "\u001b[1;31m---------------------------------------------------------------------------\u001b[0m",
      "\u001b[1;31mValueError\u001b[0m                                Traceback (most recent call last)",
      "Cell \u001b[1;32mIn[31], line 148\u001b[0m\n\u001b[0;32m    145\u001b[0m         tp \u001b[38;5;241m+\u001b[39m\u001b[38;5;241m=\u001b[39m tf\u001b[38;5;241m/\u001b[39m\u001b[38;5;241m1000\u001b[39m\n\u001b[0;32m    146\u001b[0m     \u001b[38;5;66;03m#consenso lo ejecuto siempre como referencia\u001b[39;00m\n\u001b[1;32m--> 148\u001b[0m     Pc \u001b[38;5;241m=\u001b[39m \u001b[38;5;241;43m-\u001b[39;49m\u001b[38;5;241;43m10\u001b[39;49m\u001b[38;5;241;43m*\u001b[39;49m\u001b[43mnp\u001b[49m\u001b[38;5;241;43m.\u001b[39;49m\u001b[43mkron\u001b[49m\u001b[43m(\u001b[49m\u001b[43mOmg\u001b[49m\u001b[43m,\u001b[49m\u001b[43mI\u001b[49m\u001b[43m)\u001b[49m\u001b[38;5;129;43m@Pc\u001b[39;49m\u001b[38;5;241m*\u001b[39mdt \u001b[38;5;241m+\u001b[39m Pc    \n\u001b[0;32m    151\u001b[0m Pst \u001b[38;5;241m=\u001b[39m np\u001b[38;5;241m.\u001b[39marray([Pc[\u001b[38;5;241m0\u001b[39m::\u001b[38;5;241m2\u001b[39m,\u001b[38;5;241m0\u001b[39m],Pc[\u001b[38;5;241m1\u001b[39m::\u001b[38;5;241m2\u001b[39m,\u001b[38;5;241m0\u001b[39m]])\u001b[38;5;241m.\u001b[39mT\n\u001b[0;32m    152\u001b[0m \u001b[38;5;28;01mfor\u001b[39;00m i \u001b[38;5;129;01min\u001b[39;00m \u001b[38;5;28menumerate\u001b[39m(Pst):\n",
      "\u001b[1;31mValueError\u001b[0m: matmul: Input operand 1 has a mismatch in its core dimension 0, with gufunc signature (n?,k),(k,m?)->(n?,m?) (size 14 is different from 10)"
     ]
    },
    {
     "data": {
      "image/png": "[encoded data removed]",
      "text/plain": [
       "<Figure size 640x480 with 1 Axes>"
      ]
     },
     "metadata": {},
     "output_type": "display_data"
    },
    {
     "data": {
      "image/png": "[encoded data removed]",
      "text/plain": [
       "<Figure size 640x480 with 1 Axes>"
      ]
     },
     "metadata": {},
     "output_type": "display_data"
    },
    {
     "data": {
      "image/png": "[encoded data removed]",
      "text/plain": [
       "<Figure size 640x480 with 1 Axes>"
      ]
     },
     "metadata": {},
     "output_type": "display_data"
    }
   ],
   "source": [
    "# -*- coding: utf-8 -*-\n",
    "\"\"\"\n",
    "Created on Sat Apr 27 19:39:47 2024\n",
    "\n",
    "@author: abierto\n",
    "\"\"\"\n",
    "\n",
    "#!/usr/bin/env python3\n",
    "# -*- coding: utf-8 -*-\n",
    "\"\"\"\n",
    "Created on Wed Mar 22 16:33:38 2020\n",
    "Ejemplo de obtención vector de stress para el paper de Zhao\n",
    "Usando picos\n",
    "@author: juanjimenez\n",
    "\"\"\"\n",
    "import numpy as np\n",
    "import matplotlib \n",
    "import matplotlib.pyplot as pl\n",
    "import picos\n",
    "\n",
    "#creamos la matriz de incidencia en su caso tiene 7 vertices\n",
    "V = vertices\n",
    "#y 12 aristas\n",
    "A = edges\n",
    "# Hemos orientado el grafo por tanto.\n",
    "# creamos la configuracion, le damos directamente la forma de P(r)\n",
    "Pr = pt\n",
    "H=np.zeros([len(V),len(A)])\n",
    "for i in enumerate(A):\n",
    "    H[i[1][0]-1,i[0]] = -1\n",
    "    H[i[1][1]-1,i[0]] = 1\n",
    "#Nuestra matriz de incidencia es la traspueta de la que define Zhao!!!\n",
    "\n",
    "\n",
    "Pr_b = np.append(Pr,np.ones([Pr.shape[0],1]),axis=1)\n",
    "\n",
    "#calculamos la matriz E \n",
    "E =Pr_b.T @ H @ np.diag(H[0,:])\n",
    "for i in range(1,len(V)):\n",
    "    E =np.append(E,Pr_b.T @ H @ np.diag(H[i,:]),axis=0)\n",
    "\n",
    "#calculamos ahora el subespacio nulo de E\n",
    "#primero calculamos el rango de E, así sabemos a partir de qué vector\n",
    "#columna de la matriz V E=U@S@V.T, empieza la base del kernel de A.\n",
    "rango = np.linalg.matrix_rank(E)\n",
    "\n",
    "#calculamos ahora la descomposicion en valores singulares de E,\n",
    "U,S,Vt = np.linalg.svd(E,full_matrices= True) #no es necesario full matrices\n",
    "filas = Vt.shape[0]\n",
    "#y el espacio nullo de E (Cada columna de Z un vector de la base del\n",
    "# espacio Nulo)\n",
    "Z = Vt[rango:filas,:].T\n",
    "#comprbación de que Z expande el Null(E)\n",
    "print(E@Z)\n",
    "\n",
    "#calculamos la descomposicion SVD de Pr_b\n",
    "#y creamos una lista de matrices Mi\n",
    "M = []\n",
    "Up,Sp,Vtp = np.linalg.svd(Pr_b)\n",
    "U2 = Up[:,Pr.shape[1]+1:]\n",
    "for i in Z.T:\n",
    "    M.append(U2.T @ H @ np.diag(i) @ H.T @ U2)\n",
    "    \n",
    "#planteamos un bonito problema LMI en picos    \n",
    "P = picos.Problem()\n",
    "\n",
    "c = picos.RealVariable(\"c\",len(M))\n",
    "M_L = [picos.Constant(Mi) for Mi in M]\n",
    "S = picos.sum(M_L[i]*c[i] for i in range(len(M_L)))\n",
    "P.add_constraint(S>>0)\n",
    "print(P)\n",
    "P.solve()\n",
    "\n",
    "#esto puede dar errores ojo\n",
    "cn = np.array([c.np])\n",
    "\n",
    "#Construimos el vector de pesos y la matriz de pesos.\n",
    "w = [sum(Z[:,i]*cn[i] for i in range(Z.shape[1]))]\n",
    "w = w[0]\n",
    "Omg = H @ np.diag(w) @ H.T    \n",
    "#dibujamos que siempre ayuda...\n",
    "pl.plot(Pr[:,0],Pr[:,1],'o')\n",
    "for i in enumerate(Pr):\n",
    "    pl.gca().text(i[1][0]+0.01,i[1][1]+0.01,str(i[0]+1))\n",
    "for i in enumerate(A):\n",
    "    pl.plot(Pr[[i[1][0]-1,i[1][1]-1],0],Pr[[i[1][0]-1,i[1][1]-1],1])\n",
    "    pl.gca().text(np.mean(Pr[[i[1][0]-1,i[1][1]-1],0]),\\\n",
    "        np.mean(Pr[[i[1][0]-1,i[1][1]-1],1]),str(w[i[0]])[0:6],\\\n",
    "            rotation=180*np.arctan2(Pr[i[1][0]-1,1]-Pr[i[1][1]-1,1],\\\n",
    "                                Pr[i[1][0]-1,0]-Pr[i[1][1]-1,0])/np.pi)\n",
    "#que pasa si empezamos en la configuracion deseada\n",
    "pl.figure()\n",
    "\n",
    "Prs = np.reshape(Pr,[2*Pr.shape[0],1]) #posisciones de referencia apiladas\n",
    "P = Prs.copy()\n",
    "pl.plot(P[0::2,0],P[1::2,0],'^k',linewidth =0.1)\n",
    "dt = 0.01\n",
    "\n",
    "tf = 100\n",
    "tp = tf/1000\n",
    "t = 0\n",
    "I = np.eye(2)\n",
    "\n",
    "Pc = P\n",
    "\n",
    "################no se mueve estan en el kernel de los pesos####################\n",
    "while t <= tf:\n",
    "    t += dt\n",
    "    if t >= tp:\n",
    "        pl.plot(Pc[0::2,0],Pc[1::2,0],'.',linewidth =0.1)\n",
    "        tp += tf/1000\n",
    "    #consenso lo ejecuto siempre como referencia\n",
    "        \n",
    "    Pc = -10*np.kron(Omg,I)@Pc*dt + Pc    \n",
    "    \n",
    "\n",
    "Pst = np.array([Pc[0::2,0],Pc[1::2,0]]).T\n",
    "for i in enumerate(Pst):\n",
    "    pl.gca().text(i[1][0],i[1][1],str(i[0]+1))\n",
    "for i in enumerate(A):\n",
    "    pl.plot(Pst[[i[1][0]-1,i[1][1]-1],0],Pst[[i[1][0]-1,i[1][1]-1],1])\n",
    "# ###################################################################\n",
    "\n",
    "#por último podemos probar por euler que empezando en codiciones arbitrarias el\n",
    "#sistema converge a la configuraación deseada\n",
    "pl.figure()\n",
    "P  = 10*np.random.rand(14,1)-5 #posiciones iniciales\n",
    "Prs = np.reshape(Pr,[2*Pr.shape[0],1]) #posisciones de referencia apiladas\n",
    "\n",
    "pl.plot(P[0::2,0],P[1::2,0],'^k',linewidth =0.1)\n",
    "dt = 0.01\n",
    "\n",
    "tf = 100\n",
    "tp = tf/1000\n",
    "t = 0\n",
    "I = np.eye(2)\n",
    "\n",
    "Pc = P\n",
    "\n",
    "################consenso######################################\n",
    "while t <= tf:\n",
    "    t += dt\n",
    "    if t >= tp:\n",
    "        pl.plot(Pc[0::2,0],Pc[1::2,0],'.',linewidth =0.1)\n",
    "        tp += tf/1000\n",
    "    #consenso lo ejecuto siempre como referencia\n",
    "        \n",
    "    Pc = -10*np.kron(Omg,I)@Pc*dt + Pc    \n",
    "    \n",
    "\n",
    "Pst = np.array([Pc[0::2,0],Pc[1::2,0]]).T\n",
    "for i in enumerate(Pst):\n",
    "    pl.gca().text(i[1][0],i[1][1],str(i[0]+1))\n",
    "for i in enumerate(A):\n",
    "    pl.plot(Pst[[i[1][0]-1,i[1][1]-1],0],Pst[[i[1][0]-1,i[1][1]-1],1])\n",
    "# ###################################################################"
   ]
  },
  {
   "cell_type": "code",
   "execution_count": 32,
   "metadata": {},
   "outputs": [
    {
     "data": {
      "text/latex": [
       "$\\displaystyle \\left[\\begin{matrix}0.250000010491167 & -0.250000010491167 & -0.250000010491167 & 0.250000010491167 & 0\\\\-0.250000010491167 & 0.250000010491167 & 0.250000010491167 & -0.250000010491167 & 0\\\\-0.250000010491167 & 0.250000010491167 & 0.250000010491167 & -0.250000010491167 & -5.37935698358132 \\cdot 10^{-17}\\\\0.250000010491167 & -0.250000010491167 & -0.250000010491167 & 0.250000010491167 & 0\\\\0 & 0 & -5.37935698358132 \\cdot 10^{-17} & 0 & 5.37935698358132 \\cdot 10^{-17}\\end{matrix}\\right]$"
      ],
      "text/plain": [
       "Matrix([\n",
       "[ 0.250000010491167, -0.250000010491167,    -0.250000010491167,  0.250000010491167,                     0],\n",
       "[-0.250000010491167,  0.250000010491167,     0.250000010491167, -0.250000010491167,                     0],\n",
       "[-0.250000010491167,  0.250000010491167,     0.250000010491167, -0.250000010491167, -5.37935698358132e-17],\n",
       "[ 0.250000010491167, -0.250000010491167,    -0.250000010491167,  0.250000010491167,                     0],\n",
       "[                 0,                  0, -5.37935698358132e-17,                  0,  5.37935698358132e-17]])"
      ]
     },
     "execution_count": 32,
     "metadata": {},
     "output_type": "execute_result"
    }
   ],
   "source": [
    "Matrix(Omg)"
   ]
  },
  {
   "cell_type": "code",
   "execution_count": null,
   "metadata": {},
   "outputs": [
    {
     "ename": "IndexError",
     "evalue": "too many indices for array: array is 1-dimensional, but 2 were indexed",
     "output_type": "error",
     "traceback": [
      "\u001b[1;31m---------------------------------------------------------------------------\u001b[0m",
      "\u001b[1;31mIndexError\u001b[0m                                Traceback (most recent call last)",
      "Cell \u001b[1;32mIn[10], line 1\u001b[0m\n\u001b[1;32m----> 1\u001b[0m \u001b[43mlaplacian\u001b[49m\u001b[43m(\u001b[49m\u001b[38;5;241;43m7\u001b[39;49m\u001b[43m,\u001b[49m\u001b[43mw\u001b[49m\u001b[43m)\u001b[49m\n",
      "Cell \u001b[1;32mIn[7], line 12\u001b[0m, in \u001b[0;36mlaplacian\u001b[1;34m(N, wij)\u001b[0m\n\u001b[0;32m     10\u001b[0m \u001b[38;5;28;01mif\u001b[39;00m i\u001b[38;5;241m==\u001b[39mj:\n\u001b[0;32m     11\u001b[0m     \u001b[38;5;28;01mif\u001b[39;00m i\u001b[38;5;241m==\u001b[39m\u001b[38;5;241m0\u001b[39m:\n\u001b[1;32m---> 12\u001b[0m         laplacian[i,j]\u001b[38;5;241m=\u001b[39m\u001b[43mwij\u001b[49m\u001b[43m[\u001b[49m\u001b[43mi\u001b[49m\u001b[43m,\u001b[49m\u001b[43mi\u001b[49m\u001b[38;5;241;43m+\u001b[39;49m\u001b[38;5;241;43m1\u001b[39;49m\u001b[43m]\u001b[49m\n\u001b[0;32m     13\u001b[0m     \u001b[38;5;28;01melif\u001b[39;00m i\u001b[38;5;241m==\u001b[39mN\u001b[38;5;241m-\u001b[39m\u001b[38;5;241m1\u001b[39m:\n\u001b[0;32m     14\u001b[0m         laplacian[i,j]\u001b[38;5;241m=\u001b[39mwij[i,i\u001b[38;5;241m-\u001b[39m\u001b[38;5;241m1\u001b[39m]\n",
      "\u001b[1;31mIndexError\u001b[0m: too many indices for array: array is 1-dimensional, but 2 were indexed"
     ]
    }
   ],
   "source": [
    "laplacian(7,w)"
   ]
  }
 ],
 "metadata": {
  "kernelspec": {
   "display_name": "Python 3",
   "language": "python",
   "name": "python3"
  },
  "language_info": {
   "codemirror_mode": {
    "name": "ipython",
    "version": 3
   },
   "file_extension": ".py",
   "mimetype": "text/x-python",
   "name": "python",
   "nbconvert_exporter": "python",
   "pygments_lexer": "ipython3",
   "version": "3.11.4"
  }
 },
 "nbformat": 4,
 "nbformat_minor": 2
}
